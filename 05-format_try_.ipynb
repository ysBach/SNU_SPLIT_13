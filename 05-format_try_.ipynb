{
 "cells": [
  {
   "cell_type": "code",
   "execution_count": 1,
   "metadata": {},
   "outputs": [],
   "source": [
    "%config InlineBackend.figure_format = 'retina'"
   ]
  },
  {
   "cell_type": "code",
   "execution_count": 2,
   "metadata": {},
   "outputs": [],
   "source": [
    "import pandas as pd\n",
    "import numpy as np\n",
    "from pathlib import Path\n",
    "from matplotlib import pyplot as plt\n",
    "from matplotlib import rcParams"
   ]
  },
  {
   "cell_type": "code",
   "execution_count": 3,
   "metadata": {},
   "outputs": [],
   "source": [
    "# We need to do it in a separate cell. See:\n",
    "# https://github.com/jupyter/notebook/issues/3385\n",
    "plt.style.use('default')\n",
    "rcParams.update({'font.size':12})"
   ]
  },
  {
   "cell_type": "code",
   "execution_count": 4,
   "metadata": {},
   "outputs": [],
   "source": [
    "top = Path(\"lecture-05\")"
   ]
  },
  {
   "cell_type": "code",
   "execution_count": 5,
   "metadata": {},
   "outputs": [],
   "source": [
    "top.mkdir(exist_ok=True)"
   ]
  },
  {
   "cell_type": "markdown",
   "metadata": {},
   "source": [
    "``FileExistsError`` will be raised if you do\n",
    "\n",
    "```python\n",
    "top.mkdir()\n",
    "```"
   ]
  },
  {
   "cell_type": "markdown",
   "metadata": {},
   "source": [
    "# Format String\n",
    "\n",
    "Make format string by ``f\"\"`` or ``\"\".format()``"
   ]
  },
  {
   "cell_type": "code",
   "execution_count": 6,
   "metadata": {},
   "outputs": [
    {
     "name": "stdout",
     "output_type": "stream",
     "text": [
      "lecture-05/test_0.txt\n",
      "lecture-05/test_1.txt\n",
      "lecture-05/test_2.txt\n"
     ]
    }
   ],
   "source": [
    "prefix = \"test\"\n",
    "for i in range(3):\n",
    "    fpath = top/f\"{prefix}_{i}.txt\"\n",
    "    fpath.touch()\n",
    "    print(fpath)"
   ]
  },
  {
   "cell_type": "code",
   "execution_count": 7,
   "metadata": {},
   "outputs": [
    {
     "name": "stdout",
     "output_type": "stream",
     "text": [
      "lecture-05/test_0.txt\n",
      "lecture-05/test_1.txt\n",
      "lecture-05/test_2.txt\n"
     ]
    }
   ],
   "source": [
    "for i in range(3):\n",
    "    fpath = top/\"{x:s}_{y:d}.txt\".format(x=prefix, y=i)\n",
    "#   Identical to\n",
    "#     fpath = top/\"{x}_{y}.txt\".format(x=prefix, y=i)\n",
    "    fpath.touch()\n",
    "    print(fpath)"
   ]
  },
  {
   "cell_type": "code",
   "execution_count": 8,
   "metadata": {},
   "outputs": [
    {
     "name": "stdout",
     "output_type": "stream",
     "text": [
      "lecture-05/test_0.txt\n",
      "lecture-05/test_1.txt\n",
      "lecture-05/test_2.txt\n"
     ]
    }
   ],
   "source": [
    "for i in range(3):\n",
    "    fpath = top/\"{1}_{0}.txt\".format(i, prefix)\n",
    "#   Identical to\n",
    "#     fpath = top/\"{0}_{1}.txt\".format(prefix, i)\n",
    "    fpath.touch()\n",
    "    print(fpath)"
   ]
  },
  {
   "cell_type": "code",
   "execution_count": 9,
   "metadata": {},
   "outputs": [
    {
     "name": "stdout",
     "output_type": "stream",
     "text": [
      "lecture-05/test_0.txt\n",
      "lecture-05/test_1.txt\n",
      "lecture-05/test_2.txt\n"
     ]
    }
   ],
   "source": [
    "for i in range(3):\n",
    "    fpath = top/\"{}_{}.txt\".format(prefix, i)\n",
    "    fpath.touch()\n",
    "    print(fpath)"
   ]
  },
  {
   "cell_type": "markdown",
   "metadata": {},
   "source": [
    "Although a bit deprecated by now, ``%`` is also used:"
   ]
  },
  {
   "cell_type": "code",
   "execution_count": 10,
   "metadata": {},
   "outputs": [
    {
     "name": "stdout",
     "output_type": "stream",
     "text": [
      "lecture-05/test_0.txt\n",
      "lecture-05/test_1.txt\n",
      "lecture-05/test_2.txt\n"
     ]
    }
   ],
   "source": [
    "for i in range(3):\n",
    "    fpath = top/(\"%s_%s.txt\" % (prefix, i))\n",
    "    fpath.touch()\n",
    "    print(fpath)"
   ]
  },
  {
   "cell_type": "markdown",
   "metadata": {},
   "source": [
    "Some summary [here](https://pyformat.info/)"
   ]
  },
  {
   "cell_type": "code",
   "execution_count": 11,
   "metadata": {},
   "outputs": [
    {
     "name": "stdout",
     "output_type": "stream",
     "text": [
      "Default {}\n",
      "1234567\n",
      "1234.567\n",
      "1.23456789\n",
      "-10\n",
      "\n",
      "Precision {:.1f}\n",
      "1234567.0\n",
      "1234.6\n",
      "1.2\n",
      "-10.0\n",
      "\n",
      "Sign {:+.1f}\n",
      "+1234567.0\n",
      "+1234.6\n",
      "+1.2\n",
      "-10.0\n",
      "\n",
      "Fixed length {:10.1f}\n",
      " 1234567.0\n",
      "    1234.6\n",
      "       1.2\n",
      "     -10.0\n",
      "\n",
      "Fixed length, left {:<10.1f}\n",
      "1234567.0 \n",
      "1234.6    \n",
      "1.2       \n",
      "-10.0     \n",
      "\n",
      "Fixed length, center {:^10.1f}\n",
      "1234567.0 \n",
      "  1234.6  \n",
      "   1.2    \n",
      "  -10.0   \n",
      "\n",
      "Fixed length, fill {:ㅋ^10.1f}\n",
      "1234567.0ㅋ\n",
      "ㅋㅋ1234.6ㅋㅋ\n",
      "ㅋㅋㅋ1.2ㅋㅋㅋㅋ\n",
      "ㅋㅋ-10.0ㅋㅋㅋ\n",
      "\n",
      "Leading zeros (application of Fixed length) {:0>10.0f}\n",
      "0001234567\n",
      "0000001235\n",
      "0000000001\n",
      "0000000-10\n",
      "\n",
      "Sign with space {:=+15f}\n",
      "+1234567.000000\n",
      "+   1234.567000\n",
      "+      1.234568\n",
      "-     10.000000\n",
      "\n",
      "exponent {:e}\n",
      "1.234567e+06\n",
      "1.234567e+03\n",
      "1.234568e+00\n",
      "-1.000000e+01\n",
      "\n",
      "shorter {:g}\n",
      "1.23457e+06\n",
      "1234.57\n",
      "1.23457\n",
      "-10\n",
      "\n"
     ]
    }
   ],
   "source": [
    "fmts = {\"Default\" : \"{}\",\n",
    "        \"Precision\" : \"{:.1f}\",\n",
    "        \"Sign\" : \"{:+.1f}\",\n",
    "        \"Fixed length\" : \"{:10.1f}\",\n",
    "        \"Fixed length, left\" : \"{:<10.1f}\",\n",
    "        \"Fixed length, center\" : \"{:^10.1f}\",\n",
    "        \"Fixed length, fill\" : \"{:ㅋ^10.1f}\",\n",
    "        \"Leading zeros (application of Fixed length)\" : \"{:0>10.0f}\",\n",
    "        \"Sign with space\": \"{:=+15f}\",\n",
    "        \"exponent\" : \"{:e}\",\n",
    "        \"shorter\" : \"{:g}\",\n",
    "       }\n",
    "\n",
    "values = [1234567, 1234.567, 1.234567890, -10]\n",
    "\n",
    "for s, f in fmts.items():\n",
    "    print(s, f)\n",
    "    for v in values:\n",
    "        print(f.format(v))\n",
    "    print()"
   ]
  },
  {
   "cell_type": "markdown",
   "metadata": {},
   "source": [
    "## 2. Try-Except-Finally"
   ]
  },
  {
   "cell_type": "code",
   "execution_count": 12,
   "metadata": {},
   "outputs": [
    {
     "name": "stdout",
     "output_type": "stream",
     "text": [
      "trying\n",
      "exception happened\n",
      "Done\n"
     ]
    }
   ],
   "source": [
    "try:\n",
    "    print(\"trying\")\n",
    "    top.mkdir()\n",
    "except FileExistsError:\n",
    "    print(\"exception happened\")\n",
    "    top.mkdir(exist_ok=True)\n",
    "finally:\n",
    "    print(\"Done\")"
   ]
  },
  {
   "cell_type": "markdown",
   "metadata": {},
   "source": [
    "Compare with this:"
   ]
  },
  {
   "cell_type": "code",
   "execution_count": 13,
   "metadata": {},
   "outputs": [],
   "source": [
    "if top.exists():\n",
    "    top.mkdir(exist_ok=True)\n",
    "else:\n",
    "    top.mkdir()"
   ]
  },
  {
   "cell_type": "markdown",
   "metadata": {},
   "source": [
    "A slightly meaningful way of using it:"
   ]
  },
  {
   "cell_type": "code",
   "execution_count": 14,
   "metadata": {},
   "outputs": [
    {
     "name": "stdout",
     "output_type": "stream",
     "text": [
      "This is 'finally'\n",
      "1\n",
      "This is 'finally'\n",
      "1\n"
     ]
    }
   ],
   "source": [
    "def dividing(x, y):\n",
    "    try:\n",
    "        return x/y\n",
    "    except ZeroDivisionError:\n",
    "        return np.inf\n",
    "    finally:\n",
    "        print(\"This is 'finally'\")\n",
    "        return 1\n",
    "\n",
    "print(dividing(0, 1))\n",
    "print(dividing(1, 0))"
   ]
  },
  {
   "cell_type": "code",
   "execution_count": 15,
   "metadata": {},
   "outputs": [],
   "source": [
    "dict4df = {}\n",
    "for i in range(50):\n",
    "    quotient = i//5\n",
    "    remainder = i%5\n",
    "    try:\n",
    "        dict4df[remainder].append(i)\n",
    "    except KeyError:\n",
    "        dict4df[remainder] = [i]"
   ]
  },
  {
   "cell_type": "code",
   "execution_count": 16,
   "metadata": {},
   "outputs": [
    {
     "data": {
      "text/plain": [
       "{0: [0, 5, 10, 15, 20, 25, 30, 35, 40, 45],\n",
       " 1: [1, 6, 11, 16, 21, 26, 31, 36, 41, 46],\n",
       " 2: [2, 7, 12, 17, 22, 27, 32, 37, 42, 47],\n",
       " 3: [3, 8, 13, 18, 23, 28, 33, 38, 43, 48],\n",
       " 4: [4, 9, 14, 19, 24, 29, 34, 39, 44, 49]}"
      ]
     },
     "execution_count": 16,
     "metadata": {},
     "output_type": "execute_result"
    }
   ],
   "source": [
    "dict4df"
   ]
  },
  {
   "cell_type": "code",
   "execution_count": 17,
   "metadata": {},
   "outputs": [
    {
     "data": {
      "text/html": [
       "<div>\n",
       "<style scoped>\n",
       "    .dataframe tbody tr th:only-of-type {\n",
       "        vertical-align: middle;\n",
       "    }\n",
       "\n",
       "    .dataframe tbody tr th {\n",
       "        vertical-align: top;\n",
       "    }\n",
       "\n",
       "    .dataframe thead th {\n",
       "        text-align: right;\n",
       "    }\n",
       "</style>\n",
       "<table border=\"1\" class=\"dataframe\">\n",
       "  <thead>\n",
       "    <tr style=\"text-align: right;\">\n",
       "      <th></th>\n",
       "      <th>0</th>\n",
       "      <th>1</th>\n",
       "      <th>2</th>\n",
       "      <th>3</th>\n",
       "      <th>4</th>\n",
       "    </tr>\n",
       "  </thead>\n",
       "  <tbody>\n",
       "    <tr>\n",
       "      <th>0</th>\n",
       "      <td>0</td>\n",
       "      <td>1</td>\n",
       "      <td>2</td>\n",
       "      <td>3</td>\n",
       "      <td>4</td>\n",
       "    </tr>\n",
       "    <tr>\n",
       "      <th>1</th>\n",
       "      <td>5</td>\n",
       "      <td>6</td>\n",
       "      <td>7</td>\n",
       "      <td>8</td>\n",
       "      <td>9</td>\n",
       "    </tr>\n",
       "    <tr>\n",
       "      <th>2</th>\n",
       "      <td>10</td>\n",
       "      <td>11</td>\n",
       "      <td>12</td>\n",
       "      <td>13</td>\n",
       "      <td>14</td>\n",
       "    </tr>\n",
       "    <tr>\n",
       "      <th>3</th>\n",
       "      <td>15</td>\n",
       "      <td>16</td>\n",
       "      <td>17</td>\n",
       "      <td>18</td>\n",
       "      <td>19</td>\n",
       "    </tr>\n",
       "    <tr>\n",
       "      <th>4</th>\n",
       "      <td>20</td>\n",
       "      <td>21</td>\n",
       "      <td>22</td>\n",
       "      <td>23</td>\n",
       "      <td>24</td>\n",
       "    </tr>\n",
       "    <tr>\n",
       "      <th>5</th>\n",
       "      <td>25</td>\n",
       "      <td>26</td>\n",
       "      <td>27</td>\n",
       "      <td>28</td>\n",
       "      <td>29</td>\n",
       "    </tr>\n",
       "    <tr>\n",
       "      <th>6</th>\n",
       "      <td>30</td>\n",
       "      <td>31</td>\n",
       "      <td>32</td>\n",
       "      <td>33</td>\n",
       "      <td>34</td>\n",
       "    </tr>\n",
       "    <tr>\n",
       "      <th>7</th>\n",
       "      <td>35</td>\n",
       "      <td>36</td>\n",
       "      <td>37</td>\n",
       "      <td>38</td>\n",
       "      <td>39</td>\n",
       "    </tr>\n",
       "    <tr>\n",
       "      <th>8</th>\n",
       "      <td>40</td>\n",
       "      <td>41</td>\n",
       "      <td>42</td>\n",
       "      <td>43</td>\n",
       "      <td>44</td>\n",
       "    </tr>\n",
       "    <tr>\n",
       "      <th>9</th>\n",
       "      <td>45</td>\n",
       "      <td>46</td>\n",
       "      <td>47</td>\n",
       "      <td>48</td>\n",
       "      <td>49</td>\n",
       "    </tr>\n",
       "  </tbody>\n",
       "</table>\n",
       "</div>"
      ],
      "text/plain": [
       "    0   1   2   3   4\n",
       "0   0   1   2   3   4\n",
       "1   5   6   7   8   9\n",
       "2  10  11  12  13  14\n",
       "3  15  16  17  18  19\n",
       "4  20  21  22  23  24\n",
       "5  25  26  27  28  29\n",
       "6  30  31  32  33  34\n",
       "7  35  36  37  38  39\n",
       "8  40  41  42  43  44\n",
       "9  45  46  47  48  49"
      ]
     },
     "execution_count": 17,
     "metadata": {},
     "output_type": "execute_result"
    }
   ],
   "source": [
    "df = pd.DataFrame.from_dict(dict4df)    \n",
    "df"
   ]
  },
  {
   "cell_type": "markdown",
   "metadata": {},
   "source": [
    "## ``isinstance``"
   ]
  },
  {
   "cell_type": "code",
   "execution_count": 18,
   "metadata": {},
   "outputs": [],
   "source": [
    "def str2list(s):\n",
    "    if isinstance(s, str):\n",
    "        return [s]\n",
    "    elif isinstance(s, list):\n",
    "        print(\"Already list...\")\n",
    "        return s\n",
    "    else:\n",
    "        raise TypeError(f\"s must be either str or list. It's now {s}, which is type {type(s)}.\")"
   ]
  },
  {
   "cell_type": "code",
   "execution_count": 19,
   "metadata": {},
   "outputs": [
    {
     "data": {
      "text/plain": [
       "['a']"
      ]
     },
     "execution_count": 19,
     "metadata": {},
     "output_type": "execute_result"
    }
   ],
   "source": [
    "str2list(\"a\")"
   ]
  },
  {
   "cell_type": "code",
   "execution_count": 20,
   "metadata": {},
   "outputs": [
    {
     "name": "stdout",
     "output_type": "stream",
     "text": [
      "Already list...\n"
     ]
    },
    {
     "data": {
      "text/plain": [
       "['a']"
      ]
     },
     "execution_count": 20,
     "metadata": {},
     "output_type": "execute_result"
    }
   ],
   "source": [
    "str2list(['a'])"
   ]
  },
  {
   "cell_type": "code",
   "execution_count": 21,
   "metadata": {},
   "outputs": [
    {
     "ename": "TypeError",
     "evalue": "s must be either str or list. It's now 1, which is type <class 'int'>.",
     "output_type": "error",
     "traceback": [
      "\u001b[0;31m---------------------------------------------------------------------------\u001b[0m",
      "\u001b[0;31mTypeError\u001b[0m                                 Traceback (most recent call last)",
      "\u001b[0;32m<ipython-input-21-bb6789fe31f7>\u001b[0m in \u001b[0;36m<module>\u001b[0;34m\u001b[0m\n\u001b[0;32m----> 1\u001b[0;31m \u001b[0mstr2list\u001b[0m\u001b[0;34m(\u001b[0m\u001b[0;36m1\u001b[0m\u001b[0;34m)\u001b[0m\u001b[0;34m\u001b[0m\u001b[0;34m\u001b[0m\u001b[0m\n\u001b[0m",
      "\u001b[0;32m<ipython-input-18-913e41d51446>\u001b[0m in \u001b[0;36mstr2list\u001b[0;34m(s)\u001b[0m\n\u001b[1;32m      6\u001b[0m         \u001b[0;32mreturn\u001b[0m \u001b[0ms\u001b[0m\u001b[0;34m\u001b[0m\u001b[0;34m\u001b[0m\u001b[0m\n\u001b[1;32m      7\u001b[0m     \u001b[0;32melse\u001b[0m\u001b[0;34m:\u001b[0m\u001b[0;34m\u001b[0m\u001b[0;34m\u001b[0m\u001b[0m\n\u001b[0;32m----> 8\u001b[0;31m         \u001b[0;32mraise\u001b[0m \u001b[0mTypeError\u001b[0m\u001b[0;34m(\u001b[0m\u001b[0;34mf\"s must be either str or list. It's now {s}, which is type {type(s)}.\"\u001b[0m\u001b[0;34m)\u001b[0m\u001b[0;34m\u001b[0m\u001b[0;34m\u001b[0m\u001b[0m\n\u001b[0m",
      "\u001b[0;31mTypeError\u001b[0m: s must be either str or list. It's now 1, which is type <class 'int'>."
     ]
    }
   ],
   "source": [
    "str2list(1)"
   ]
  },
  {
   "cell_type": "markdown",
   "metadata": {},
   "source": [
    "## ``atleast_1d``"
   ]
  },
  {
   "cell_type": "code",
   "execution_count": 22,
   "metadata": {},
   "outputs": [],
   "source": [
    "def squaring(a):\n",
    "    if not isinstance(a, (int, float, list, tuple, np.ndarray)):\n",
    "        print(f\"Is the type of a as you expect? It's now {type(a)}\")\n",
    "    _a = np.atleast_1d(a)\n",
    "    return _a**2"
   ]
  },
  {
   "cell_type": "code",
   "execution_count": 23,
   "metadata": {},
   "outputs": [
    {
     "data": {
      "text/plain": [
       "array([100])"
      ]
     },
     "execution_count": 23,
     "metadata": {},
     "output_type": "execute_result"
    }
   ],
   "source": [
    "squaring(10)"
   ]
  },
  {
   "cell_type": "code",
   "execution_count": 24,
   "metadata": {},
   "outputs": [
    {
     "data": {
      "text/plain": [
       "array([  100, 10000])"
      ]
     },
     "execution_count": 24,
     "metadata": {},
     "output_type": "execute_result"
    }
   ],
   "source": [
    "squaring([10, 100])"
   ]
  },
  {
   "cell_type": "code",
   "execution_count": 25,
   "metadata": {},
   "outputs": [
    {
     "data": {
      "text/plain": [
       "array([ 9, 25])"
      ]
     },
     "execution_count": 25,
     "metadata": {},
     "output_type": "execute_result"
    }
   ],
   "source": [
    "squaring((3, 5))"
   ]
  },
  {
   "cell_type": "code",
   "execution_count": 26,
   "metadata": {},
   "outputs": [
    {
     "data": {
      "text/plain": [
       "array([[ 0,  1,  4,  9, 16],\n",
       "       [25, 36, 49, 64, 81]])"
      ]
     },
     "execution_count": 26,
     "metadata": {},
     "output_type": "execute_result"
    }
   ],
   "source": [
    "squaring(np.arange(10).reshape(2, 5))"
   ]
  },
  {
   "cell_type": "code",
   "execution_count": 27,
   "metadata": {},
   "outputs": [
    {
     "name": "stdout",
     "output_type": "stream",
     "text": [
      "Is the type of a as you expect? It's now <class 'str'>\n"
     ]
    },
    {
     "ename": "TypeError",
     "evalue": "ufunc 'square' not supported for the input types, and the inputs could not be safely coerced to any supported types according to the casting rule ''safe''",
     "output_type": "error",
     "traceback": [
      "\u001b[0;31m---------------------------------------------------------------------------\u001b[0m",
      "\u001b[0;31mTypeError\u001b[0m                                 Traceback (most recent call last)",
      "\u001b[0;32m<ipython-input-27-c1db90ba4c8b>\u001b[0m in \u001b[0;36m<module>\u001b[0;34m\u001b[0m\n\u001b[0;32m----> 1\u001b[0;31m \u001b[0msquaring\u001b[0m\u001b[0;34m(\u001b[0m\u001b[0;34m\"1\"\u001b[0m\u001b[0;34m)\u001b[0m\u001b[0;34m\u001b[0m\u001b[0;34m\u001b[0m\u001b[0m\n\u001b[0m",
      "\u001b[0;32m<ipython-input-22-adad4229957a>\u001b[0m in \u001b[0;36msquaring\u001b[0;34m(a)\u001b[0m\n\u001b[1;32m      3\u001b[0m         \u001b[0mprint\u001b[0m\u001b[0;34m(\u001b[0m\u001b[0;34mf\"Is the type of a as you expect? It's now {type(a)}\"\u001b[0m\u001b[0;34m)\u001b[0m\u001b[0;34m\u001b[0m\u001b[0;34m\u001b[0m\u001b[0m\n\u001b[1;32m      4\u001b[0m     \u001b[0m_a\u001b[0m \u001b[0;34m=\u001b[0m \u001b[0mnp\u001b[0m\u001b[0;34m.\u001b[0m\u001b[0matleast_1d\u001b[0m\u001b[0;34m(\u001b[0m\u001b[0ma\u001b[0m\u001b[0;34m)\u001b[0m\u001b[0;34m\u001b[0m\u001b[0;34m\u001b[0m\u001b[0m\n\u001b[0;32m----> 5\u001b[0;31m     \u001b[0;32mreturn\u001b[0m \u001b[0m_a\u001b[0m\u001b[0;34m**\u001b[0m\u001b[0;36m2\u001b[0m\u001b[0;34m\u001b[0m\u001b[0;34m\u001b[0m\u001b[0m\n\u001b[0m",
      "\u001b[0;31mTypeError\u001b[0m: ufunc 'square' not supported for the input types, and the inputs could not be safely coerced to any supported types according to the casting rule ''safe''"
     ]
    }
   ],
   "source": [
    "squaring(\"1\")"
   ]
  },
  {
   "cell_type": "code",
   "execution_count": null,
   "metadata": {},
   "outputs": [],
   "source": []
  }
 ],
 "metadata": {
  "kernelspec": {
   "display_name": "Python 3",
   "language": "python",
   "name": "python3"
  },
  "language_info": {
   "codemirror_mode": {
    "name": "ipython",
    "version": 3
   },
   "file_extension": ".py",
   "mimetype": "text/x-python",
   "name": "python",
   "nbconvert_exporter": "python",
   "pygments_lexer": "ipython3",
   "version": "3.7.3"
  },
  "varInspector": {
   "cols": {
    "lenName": 16,
    "lenType": 16,
    "lenVar": 40
   },
   "kernels_config": {
    "python": {
     "delete_cmd_postfix": "",
     "delete_cmd_prefix": "del ",
     "library": "var_list.py",
     "varRefreshCmd": "print(var_dic_list())"
    },
    "r": {
     "delete_cmd_postfix": ") ",
     "delete_cmd_prefix": "rm(",
     "library": "var_list.r",
     "varRefreshCmd": "cat(var_dic_list()) "
    }
   },
   "types_to_exclude": [
    "module",
    "function",
    "builtin_function_or_method",
    "instance",
    "_Feature"
   ],
   "window_display": false
  }
 },
 "nbformat": 4,
 "nbformat_minor": 2
}
